{
 "cells": [
  {
   "cell_type": "code",
   "execution_count": 1,
   "metadata": {},
   "outputs": [
    {
     "name": "stdout",
     "output_type": "stream",
     "text": [
      "False\n",
      "True\n",
      "True\n",
      "False\n",
      "flour - 175g\n",
      "butter- 175g\n",
      "sugar - 100g\n",
      "eggs - 2\n",
      "cocoa powder - 1ts\n",
      "baking powder - 0.5\n"
     ]
    }
   ],
   "source": [
    "## problem1\n",
    "project='cake'\n",
    "difficulty=5\n",
    "ingredients=['flour','butter','sugar','eggs', 'cocoa powder','baking powder']\n",
    "x='apples'\n",
    "b='butter'\n",
    "m='margarinate'\n",
    "e='eggs'\n",
    "print ('apples'  in ingredients)\n",
    "print ('butter' in ingredients)\n",
    "print ((\"eggs\"  in ingredients) or \"margarine\" in ingredients)     \n",
    "print ((\"eggs\" in ingredients) and \"margarine\" in ingredients) \n",
    "    \n",
    "flour='175g'\n",
    "butter='175g'\n",
    "sugar='100g'\n",
    "eggs=2\n",
    "cocoa_powder= '1ts'\n",
    "baking_powder=0.5\n",
    "\n",
    "\n",
    "print ('flour -', flour)\n",
    "print ('butter-',butter) \n",
    "print ('sugar -', sugar)\n",
    "print ('eggs -', eggs)\n",
    "print ('cocoa powder -', cocoa_powder)\n",
    "print ('baking powder -', baking_powder)"
   ]
  },
  {
   "cell_type": "code",
   "execution_count": 4,
   "metadata": {},
   "outputs": [
    {
     "name": "stdout",
     "output_type": "stream",
     "text": [
      "1003.0\n",
      "852\n"
     ]
    }
   ],
   "source": [
    "## problem3\n",
    "a=15\n",
    "b=8\n",
    "c=2\n",
    "\n",
    "x=((5*a**2)-(a*b)+(a%2)-(a/5) )\n",
    "c=((b**3)+(3*a*b)-(10*c))\n",
    "print (x)\n",
    "print (c) "
   ]
  },
  {
   "cell_type": "code",
   "execution_count": 22,
   "metadata": {},
   "outputs": [
    {
     "name": "stdout",
     "output_type": "stream",
     "text": [
      "please enter number3\n",
      "odd\n"
     ]
    }
   ],
   "source": [
    "## problem4\n",
    "arr=[\"even\",\"odd\"]\n",
    "number=int(input('please enter number'))\n",
    "print (arr[number%2])"
   ]
  },
  {
   "cell_type": "code",
   "execution_count": 23,
   "metadata": {},
   "outputs": [
    {
     "name": "stdout",
     "output_type": "stream",
     "text": [
      "False\n",
      "True\n",
      "True\n",
      "False\n",
      "flour - 175g\n",
      "butter- 175g\n",
      "sugar - 100g\n",
      "eggs - 2\n",
      "cocoa powder - 1ts\n",
      "baking powder - 0.5\n"
     ]
    }
   ],
   "source": [
    "run problem1.py"
   ]
  },
  {
   "cell_type": "code",
   "execution_count": null,
   "metadata": {},
   "outputs": [],
   "source": []
  }
 ],
 "metadata": {
  "kernelspec": {
   "display_name": "Python 3",
   "language": "python",
   "name": "python3"
  },
  "language_info": {
   "codemirror_mode": {
    "name": "ipython",
    "version": 3
   },
   "file_extension": ".py",
   "mimetype": "text/x-python",
   "name": "python",
   "nbconvert_exporter": "python",
   "pygments_lexer": "ipython3",
   "version": "3.7.4"
  }
 },
 "nbformat": 4,
 "nbformat_minor": 2
}
