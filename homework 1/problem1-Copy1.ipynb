{
 "cells": [
  {
   "cell_type": "code",
   "execution_count": 44,
   "metadata": {},
   "outputs": [
    {
     "name": "stdout",
     "output_type": "stream",
     "text": [
      "course:intro to python\n",
      "student:Ardashes Boghos\n",
      "nickname:Ardo\n",
      "grade: 90\n",
      "python_expert\n"
     ]
    }
   ],
   "source": [
    "course = 'intro to python'\n",
    "student = 'Ardashes Boghos'\n",
    "nickname = 'Ardo'\n",
    "grade = 90\n",
    "python_expert=True\n",
    "print ('course:'+course)\n",
    "print ('student:'+student)\n",
    "print ('nickname:'+nickname)\n",
    "print ('grade:',grade)\n",
    "print ('python_expert' )\n"
   ]
  },
  {
   "cell_type": "code",
   "execution_count": null,
   "metadata": {},
   "outputs": [],
   "source": []
  }
 ],
 "metadata": {
  "kernelspec": {
   "display_name": "Python 3",
   "language": "python",
   "name": "python3"
  },
  "language_info": {
   "codemirror_mode": {
    "name": "ipython",
    "version": 3
   },
   "file_extension": ".py",
   "mimetype": "text/x-python",
   "name": "python",
   "nbconvert_exporter": "python",
   "pygments_lexer": "ipython3",
   "version": "3.7.4"
  }
 },
 "nbformat": 4,
 "nbformat_minor": 2
}
