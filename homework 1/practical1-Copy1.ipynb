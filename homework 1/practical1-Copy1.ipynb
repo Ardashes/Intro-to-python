{
 "cells": [
  {
   "cell_type": "code",
   "execution_count": 1,
   "metadata": {},
   "outputs": [
    {
     "name": "stdout",
     "output_type": "stream",
     "text": [
      "course:  intro to python\n",
      "student:  Ardashes Boghos\n",
      "nickname:  Ardo\n",
      "grade:  100\n",
      "python_expert: True\n"
     ]
    }
   ],
   "source": [
    "## practical problem2\n",
    "course = \"intro to python\"\n",
    "student = \"Ardashes Boghos\"\n",
    "nickname = \"Ardo\"\n",
    "grade = 100\n",
    "python_expert = True\n",
    "print (\"course: \", course)\n",
    "print (\"student: \", student)\n",
    "print (\"nickname: \" , nickname )\n",
    "print (\"grade: \" , grade)\n",
    "print (\"python_expert:\", python_expert)"
   ]
  },
  {
   "cell_type": "code",
   "execution_count": 2,
   "metadata": {},
   "outputs": [
    {
     "name": "stdout",
     "output_type": "stream",
     "text": [
      "The hypotenuse of triangle ABC is  5.0\n"
     ]
    }
   ],
   "source": [
    "## practical problem4\n",
    "import math\n",
    "AB=3\n",
    "AC=4\n",
    "BC=math.sqrt(AB**2+AC**2)\n",
    "print (\"The hypotenuse of triangle ABC is \",BC )"
   ]
  },
  {
   "cell_type": "code",
   "execution_count": null,
   "metadata": {},
   "outputs": [],
   "source": []
  }
 ],
 "metadata": {
  "kernelspec": {
   "display_name": "Python 3",
   "language": "python",
   "name": "python3"
  },
  "language_info": {
   "codemirror_mode": {
    "name": "ipython",
    "version": 3
   },
   "file_extension": ".py",
   "mimetype": "text/x-python",
   "name": "python",
   "nbconvert_exporter": "python",
   "pygments_lexer": "ipython3",
   "version": "3.7.4"
  }
 },
 "nbformat": 4,
 "nbformat_minor": 2
}
