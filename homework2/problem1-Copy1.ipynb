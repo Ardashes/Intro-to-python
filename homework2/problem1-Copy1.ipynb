{
 "cells": [
  {
   "cell_type": "code",
   "execution_count": 1,
   "metadata": {},
   "outputs": [
    {
     "name": "stdout",
     "output_type": "stream",
     "text": [
      "apple is not an ingredient\n",
      "butter is an ingredient\n",
      "there is egg and/or margarinate in the ingredients\n",
      "there is egg and margarinate\n",
      "flour - 175g\n",
      "butter- 175g\n",
      "sugar - 100g\n",
      "eggs - 2\n",
      "cocoa powder - 1ts\n",
      "baking powder - 0.5\n"
     ]
    }
   ],
   "source": [
    "## problem1\n",
    "project='cake'\n",
    "difficulty=5\n",
    "ingredients=['flour','butter','sugar','eggs', 'cocoa powder','baking powder']\n",
    "x='apples'\n",
    "b='butter'\n",
    "m='margarinate'\n",
    "e='eggs'\n",
    "if x in ingredients:\n",
    "    print ('apple is an ingredient') \n",
    "else: print('apple is not an ingredient')  \n",
    "if b in ingredients:\n",
    "    print ('butter is an ingredient')\n",
    "else: print ('butter is not an igredient')  \n",
    "if  m or e in ingredients:\n",
    "    print ('there is egg and/or margarinate in the ingredients')\n",
    "else: print ('''there isn't egg and/or margarinate''' ) \n",
    "if m and e in ingredients:\n",
    "    print ('there is egg and margarinate')\n",
    "else: print ('''there isn't egg and margarinate''')   \n",
    "    \n",
    "flour='175g'\n",
    "butter='175g'\n",
    "sugar='100g'\n",
    "eggs=2\n",
    "cocoa_powder= '1ts'\n",
    "baking_powder=0.5\n",
    "\n",
    "\n",
    "print ('flour -', flour)\n",
    "print ('butter-',butter) \n",
    "print ('sugar -', sugar)\n",
    "print ('eggs -', eggs)\n",
    "print ('cocoa powder -', cocoa_powder)\n",
    "print ('baking powder -', baking_powder)"
   ]
  },
  {
   "cell_type": "code",
   "execution_count": null,
   "metadata": {},
   "outputs": [],
   "source": []
  }
 ],
 "metadata": {
  "kernelspec": {
   "display_name": "Python 3",
   "language": "python",
   "name": "python3"
  },
  "language_info": {
   "codemirror_mode": {
    "name": "ipython",
    "version": 3
   },
   "file_extension": ".py",
   "mimetype": "text/x-python",
   "name": "python",
   "nbconvert_exporter": "python",
   "pygments_lexer": "ipython3",
   "version": "3.7.4"
  }
 },
 "nbformat": 4,
 "nbformat_minor": 2
}
